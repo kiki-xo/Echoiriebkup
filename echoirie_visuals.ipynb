{
 "cells": [
  {
   "cell_type": "code",
   "execution_count": 1,
   "id": "3d9125cf-af30-45de-891f-e0ad046be8d0",
   "metadata": {},
   "outputs": [
    {
     "name": "stdin",
     "output_type": "stream",
     "text": [
      " ········\n"
     ]
    }
   ],
   "source": [
    "from getpass import getpass\n",
    "import os\n",
    "\n",
    "REPLICATE_API_TOKEN = getpass()\n",
    "os.environ[\"REPLICATE_API_TOKEN\"] = REPLICATE_API_TOKEN"
   ]
  },
  {
   "cell_type": "code",
   "execution_count": 22,
   "id": "e1281a6a-5fd9-45ed-bba4-2e306f12c2dd",
   "metadata": {
    "scrolled": true
   },
   "outputs": [
    {
     "data": {
      "text/plain": [
       "['https://replicate.delivery/pbxt/ILo5Rt5OXfQXMSLRtF5zQgyYov3ueF8L2qVdsXAQPrQpro8RA/out-0.png']"
      ]
     },
     "execution_count": 22,
     "metadata": {},
     "output_type": "execute_result"
    }
   ],
   "source": [
    "import replicate \n",
    "import random\n",
    "#from IPython.display import Image\n",
    "\n",
    "# Definung the list of countries\n",
    "\n",
    "countries = [\"Japan\", \"India\", \"Ireland\"]\n",
    "\n",
    "# Randomly select a country from the list\n",
    "selected_country = random.choice(countries)\n",
    "\n",
    "#prompt\n",
    "output = replicate.run(\n",
    "  \"stability-ai/stable-diffusion:27b93a2413e7f36cd83da926f3656280b2931564ff050bf9575f1fdf9bcd7478\",\n",
    "  input={\"prompt\": f\"abstract minimalist composition that captures the essence of {selected_country}'s culture, using only the colors of the {selected_country} national flag, fluidity of music, with elements that evoke the rhythm and harmony found in the country's traditional melodies. The design should be clean, with a focus on form and color to convey a sense of the country's identity in an artistic and non-literal representation.\"}\n",
    ")\n",
    "\n",
    "output "
   ]
  },
  {
   "cell_type": "code",
   "execution_count": 18,
   "id": "7253011a-716c-4d6f-971a-6afd93d86d8a",
   "metadata": {},
   "outputs": [
    {
     "data": {
      "text/html": [
       "<img src=\"https://replicate.delivery/pbxt/nwsezBazYoxZCiJejFw924dlK8PQu4sTuHZeHVmguUl4PR5jA/out-0.png\"/>"
      ],
      "text/plain": [
       "<IPython.core.display.Image object>"
      ]
     },
     "execution_count": 18,
     "metadata": {},
     "output_type": "execute_result"
    }
   ],
   "source": [
    "from IPython.display import Image\n",
    "Image(url=output[0])\n",
    "\n",
    "#Display the image"
   ]
  },
  {
   "cell_type": "code",
   "execution_count": 20,
   "id": "805c1c7a-7dbf-407f-a210-f0416ef2f2bf",
   "metadata": {},
   "outputs": [
    {
     "name": "stdout",
     "output_type": "stream",
     "text": [
      "India\n"
     ]
    }
   ],
   "source": [
    "print(selected_country)"
   ]
  },
  {
   "cell_type": "code",
   "execution_count": 7,
   "id": "bec977bc-f614-44a6-80ac-bde4341ebe2b",
   "metadata": {},
   "outputs": [],
   "source": [
    "#VIDEO GENERATION"
   ]
  },
  {
   "cell_type": "code",
   "execution_count": 8,
   "id": "e02e41be-7d52-4aed-b274-14680686086b",
   "metadata": {},
   "outputs": [
    {
     "data": {
      "text/plain": [
       "'https://replicate.delivery/pbxt/8cixx0pGywopNRgDR7acVAmE78f5BvIEVdDNeRfJ1zlrMO5jA/out.mp4'"
      ]
     },
     "execution_count": 8,
     "metadata": {},
     "output_type": "execute_result"
    }
   ],
   "source": [
    "output = replicate.run(\n",
    "  \"lucataco/animate-diff:1531004ee4c98894ab11f8a4ce6206099e732c1da15121987a8eef54828f0663\",\n",
    "  input={\n",
    "    \"path\": \"toonyou_beta3.safetensors\",\n",
    "    \"seed\": 255224557,\n",
    "    \"steps\": 25,\n",
    "    \"prompt\": \"masterpiece, best quality, abstract, minimalist, minimalism, sound waves, glitchy, {selected_country} flag colours, {selected_country} aesthetics, \",\n",
    "    \"n_prompt\": \"badhandv4, easynegative, ng_deepnegative_v1_75t, verybadimagenegative_v1.3, bad-artist, bad_prompt_version2-neg, teeth\",\n",
    "    \"motion_module\": \"mm_sd_v14\",\n",
    "    \"guidance_scale\": 7.5\n",
    "  }\n",
    ")\n",
    "\n",
    "output"
   ]
  },
  {
   "cell_type": "code",
   "execution_count": null,
   "id": "0d00f486-1f12-449f-a2bd-ed915af91152",
   "metadata": {},
   "outputs": [],
   "source": []
  },
  {
   "cell_type": "code",
   "execution_count": null,
   "id": "1375324c-cea3-4b37-af7d-def17cc2057f",
   "metadata": {},
   "outputs": [],
   "source": []
  }
 ],
 "metadata": {
  "kernelspec": {
   "display_name": "Python 3 (ipykernel)",
   "language": "python",
   "name": "python3"
  },
  "language_info": {
   "codemirror_mode": {
    "name": "ipython",
    "version": 3
   },
   "file_extension": ".py",
   "mimetype": "text/x-python",
   "name": "python",
   "nbconvert_exporter": "python",
   "pygments_lexer": "ipython3",
   "version": "3.12.0"
  }
 },
 "nbformat": 4,
 "nbformat_minor": 5
}
